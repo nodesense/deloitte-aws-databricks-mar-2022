{
 "cells": [
  {
   "cell_type": "code",
   "execution_count": 1,
   "id": "3572df17",
   "metadata": {},
   "outputs": [
    {
     "name": "stdout",
     "output_type": "stream",
     "text": [
      "Starting Spark application\n"
     ]
    },
    {
     "data": {
      "text/html": [
       "<table>\n",
       "<tr><th>ID</th><th>YARN Application ID</th><th>Kind</th><th>State</th><th>Spark UI</th><th>Driver log</th><th>User</th><th>Current session?</th></tr><tr><td>4</td><td>application_1648112337295_0005</td><td>pyspark</td><td>idle</td><td><a target=\"_blank\" href=\"http://ip-172-32-76-187.us-east-2.compute.internal:20888/proxy/application_1648112337295_0005/\">Link</a></td><td><a target=\"_blank\" href=\"http://ip-172-32-65-97.us-east-2.compute.internal:8042/node/containerlogs/container_1648112337295_0005_01_000001/livy\">Link</a></td><td>None</td><td>✔</td></tr></table>"
      ],
      "text/plain": [
       "<IPython.core.display.HTML object>"
      ]
     },
     "metadata": {},
     "output_type": "display_data"
    },
    {
     "data": {
      "application/vnd.jupyter.widget-view+json": {
       "model_id": "",
       "version_major": 2,
       "version_minor": 0
      },
      "text/plain": [
       "FloatProgress(value=0.0, bar_style='info', description='Progress:', layout=Layout(height='25px', width='50%'),…"
      ]
     },
     "metadata": {},
     "output_type": "display_data"
    },
    {
     "name": "stdout",
     "output_type": "stream",
     "text": [
      "SparkSession available as 'spark'.\n"
     ]
    },
    {
     "data": {
      "application/vnd.jupyter.widget-view+json": {
       "model_id": "",
       "version_major": 2,
       "version_minor": 0
      },
      "text/plain": [
       "FloatProgress(value=0.0, bar_style='info', description='Progress:', layout=Layout(height='25px', width='50%'),…"
      ]
     },
     "metadata": {},
     "output_type": "display_data"
    }
   ],
   "source": [
    "import sys\n",
    "from awsglue.transforms import *\n",
    "from awsglue.utils import getResolvedOptions\n",
    "from pyspark.context import SparkContext\n",
    "from awsglue.context import GlueContext\n",
    "from awsglue.job import Job\n",
    "\n",
    "glueContext = GlueContext(SparkContext.getOrCreate())\n",
    "spark = glueContext.spark_session"
   ]
  },
  {
   "cell_type": "code",
   "execution_count": 2,
   "id": "20a226e7",
   "metadata": {},
   "outputs": [
    {
     "data": {
      "application/vnd.jupyter.widget-view+json": {
       "model_id": "",
       "version_major": 2,
       "version_minor": 0
      },
      "text/plain": [
       "FloatProgress(value=0.0, bar_style='info', description='Progress:', layout=Layout(height='25px', width='50%'),…"
      ]
     },
     "metadata": {},
     "output_type": "display_data"
    },
    {
     "name": "stdout",
     "output_type": "stream",
     "text": [
      "root\n",
      "|-- movieid: long\n",
      "|-- title: string\n",
      "|-- genres: string"
     ]
    }
   ],
   "source": [
    "MoviesParquet_node1648104136489 = glueContext.create_dynamic_frame.from_catalog(\n",
    "    database=\"gks_db\",\n",
    "    table_name=\"silver_movies\",\n",
    "    transformation_ctx=\"MoviesParquet_node1648104136489\",\n",
    ")\n",
    "\n",
    "MoviesParquet_node1648104136489.printSchema()"
   ]
  },
  {
   "cell_type": "code",
   "execution_count": 3,
   "id": "35042de1",
   "metadata": {},
   "outputs": [
    {
     "data": {
      "application/vnd.jupyter.widget-view+json": {
       "model_id": "",
       "version_major": 2,
       "version_minor": 0
      },
      "text/plain": [
       "FloatProgress(value=0.0, bar_style='info', description='Progress:', layout=Layout(height='25px', width='50%'),…"
      ]
     },
     "metadata": {},
     "output_type": "display_data"
    },
    {
     "name": "stdout",
     "output_type": "stream",
     "text": [
      "+-------+--------------------+--------------------+\n",
      "|movieid|               title|              genres|\n",
      "+-------+--------------------+--------------------+\n",
      "| 103609|    Class Act (1992)|              Comedy|\n",
      "|    990| Maximum Risk (1996)|Action|Adventure|...|\n",
      "|   2362|Glen or Glenda (1...|               Drama|\n",
      "|   4642|Hedwig and the An...|Comedy|Drama|Musical|\n",
      "|  47382|      Step Up (2006)|       Drama|Romance|\n",
      "|  26285|    Dark Star (1974)|Comedy|Sci-Fi|Thr...|\n",
      "|  72701|    Planet 51 (2009)|Adventure|Animati...|\n",
      "|   5334| Cadillac Man (1990)|        Comedy|Crime|\n",
      "|   2388|Steam: The Turkis...|       Drama|Romance|\n",
      "| 135198|The Hairdresser (...|        Comedy|Drama|\n",
      "|  51412|         Next (2007)|Action|Sci-Fi|Thr...|\n",
      "|   4321|City Slickers (1991)|      Comedy|Western|\n",
      "|   3843|Sleepaway Camp (1...|              Horror|\n",
      "|   8873|Motorcycle Diarie...|     Adventure|Drama|\n",
      "| 103075|   Purge, The (2013)|Crime|Horror|Thri...|\n",
      "|  39444|Weather Man, The ...|        Comedy|Drama|\n",
      "|  26464| Blue Thunder (1983)|  Action|Crime|Drama|\n",
      "|   3635|Spy Who Loved Me,...|Action|Adventure|...|\n",
      "| 103543|Lifeguard, The (2...|        Comedy|Drama|\n",
      "|  57669|    In Bruges (2008)|Comedy|Crime|Dram...|\n",
      "+-------+--------------------+--------------------+\n",
      "only showing top 20 rows"
     ]
    }
   ],
   "source": [
    "movieDf = MoviesParquet_node1648104136489.toDF()\n",
    "movieDf.show()"
   ]
  },
  {
   "cell_type": "code",
   "execution_count": 4,
   "id": "154a1f4f",
   "metadata": {},
   "outputs": [
    {
     "data": {
      "application/vnd.jupyter.widget-view+json": {
       "model_id": "",
       "version_major": 2,
       "version_minor": 0
      },
      "text/plain": [
       "FloatProgress(value=0.0, bar_style='info', description='Progress:', layout=Layout(height='25px', width='50%'),…"
      ]
     },
     "metadata": {},
     "output_type": "display_data"
    }
   ],
   "source": [
    "RatingsParquet_node1648104140409 = glueContext.create_dynamic_frame.from_catalog(\n",
    "    database=\"gks_db\",\n",
    "    table_name=\"silver_ratings\",\n",
    "    transformation_ctx=\"RatingsParquet_node1648104140409\",\n",
    ")\n"
   ]
  },
  {
   "cell_type": "code",
   "execution_count": 5,
   "id": "d533f381",
   "metadata": {},
   "outputs": [
    {
     "data": {
      "application/vnd.jupyter.widget-view+json": {
       "model_id": "",
       "version_major": 2,
       "version_minor": 0
      },
      "text/plain": [
       "FloatProgress(value=0.0, bar_style='info', description='Progress:', layout=Layout(height='25px', width='50%'),…"
      ]
     },
     "metadata": {},
     "output_type": "display_data"
    },
    {
     "name": "stdout",
     "output_type": "stream",
     "text": [
      "root\n",
      "|-- userid: long\n",
      "|-- movieid: long\n",
      "|-- rating: double\n",
      "|-- timestamp: long"
     ]
    }
   ],
   "source": [
    "RatingsParquet_node1648104140409.printSchema()"
   ]
  },
  {
   "cell_type": "code",
   "execution_count": 6,
   "id": "7f5c9b35",
   "metadata": {},
   "outputs": [
    {
     "data": {
      "application/vnd.jupyter.widget-view+json": {
       "model_id": "",
       "version_major": 2,
       "version_minor": 0
      },
      "text/plain": [
       "FloatProgress(value=0.0, bar_style='info', description='Progress:', layout=Layout(height='25px', width='50%'),…"
      ]
     },
     "metadata": {},
     "output_type": "display_data"
    },
    {
     "name": "stdout",
     "output_type": "stream",
     "text": [
      "root\n",
      "|-- movie_id: long\n",
      "|-- name: string"
     ]
    }
   ],
   "source": [
    "\n",
    "# Script generated for node movies\n",
    "movies_node1648104467325 = ApplyMapping.apply(\n",
    "    frame=MoviesParquet_node1648104136489,\n",
    "    mappings=[\n",
    "        (\"movieid\", \"long\", \"movie_id\", \"long\"),\n",
    "        (\"title\", \"string\", \"name\", \"string\"),\n",
    "    ],\n",
    "    transformation_ctx=\"movies_node1648104467325\",\n",
    ")\n",
    "movies_node1648104467325.printSchema()"
   ]
  },
  {
   "cell_type": "code",
   "execution_count": 7,
   "id": "244b8857",
   "metadata": {},
   "outputs": [
    {
     "data": {
      "application/vnd.jupyter.widget-view+json": {
       "model_id": "",
       "version_major": 2,
       "version_minor": 0
      },
      "text/plain": [
       "FloatProgress(value=0.0, bar_style='info', description='Progress:', layout=Layout(height='25px', width='50%'),…"
      ]
     },
     "metadata": {},
     "output_type": "display_data"
    },
    {
     "name": "stdout",
     "output_type": "stream",
     "text": [
      "+--------+--------------------+\n",
      "|movie_id|                name|\n",
      "+--------+--------------------+\n",
      "|  103609|    Class Act (1992)|\n",
      "|     990| Maximum Risk (1996)|\n",
      "|    2362|Glen or Glenda (1...|\n",
      "+--------+--------------------+\n",
      "only showing top 3 rows"
     ]
    }
   ],
   "source": [
    "movies_node1648104467325.toDF().show(3)"
   ]
  },
  {
   "cell_type": "code",
   "execution_count": 8,
   "id": "558b4703",
   "metadata": {},
   "outputs": [
    {
     "data": {
      "application/vnd.jupyter.widget-view+json": {
       "model_id": "",
       "version_major": 2,
       "version_minor": 0
      },
      "text/plain": [
       "FloatProgress(value=0.0, bar_style='info', description='Progress:', layout=Layout(height='25px', width='50%'),…"
      ]
     },
     "metadata": {},
     "output_type": "display_data"
    },
    {
     "name": "stdout",
     "output_type": "stream",
     "text": [
      "root\n",
      "|-- userid: long\n",
      "|-- mid: long\n",
      "|-- rating: double\n",
      "\n",
      "+------+-----+------+\n",
      "|userid|  mid|rating|\n",
      "+------+-----+------+\n",
      "|   610|84772|   3.5|\n",
      "|   468|  317|   3.0|\n",
      "+------+-----+------+\n",
      "only showing top 2 rows"
     ]
    }
   ],
   "source": [
    "ApplyMapping_node1648104492447 = ApplyMapping.apply(\n",
    "    frame=RatingsParquet_node1648104140409,\n",
    "    mappings=[\n",
    "        (\"userid\", \"long\", \"userid\", \"long\"),\n",
    "        (\"movieid\", \"long\", \"mid\", \"long\"),\n",
    "        (\"rating\", \"double\", \"rating\", \"double\"),\n",
    "    ],\n",
    "    transformation_ctx=\"ApplyMapping_node1648104492447\",\n",
    ")\n",
    "\n",
    "ApplyMapping_node1648104492447.printSchema()\n",
    "ApplyMapping_node1648104492447.toDF().show(2)"
   ]
  },
  {
   "cell_type": "code",
   "execution_count": 9,
   "id": "526282ca",
   "metadata": {},
   "outputs": [
    {
     "data": {
      "application/vnd.jupyter.widget-view+json": {
       "model_id": "",
       "version_major": 2,
       "version_minor": 0
      },
      "text/plain": [
       "FloatProgress(value=0.0, bar_style='info', description='Progress:', layout=Layout(height='25px', width='50%'),…"
      ]
     },
     "metadata": {},
     "output_type": "display_data"
    },
    {
     "name": "stdout",
     "output_type": "stream",
     "text": [
      "root\n",
      "|-- mid: long\n",
      "|-- count(userid): long\n",
      "|-- avg(rating): double\n",
      "|-- min(rating): double\n",
      "|-- max(rating): double\n",
      "\n",
      "+------+-------------+------------------+-----------+-----------+\n",
      "|   mid|count(userid)|       avg(rating)|min(rating)|max(rating)|\n",
      "+------+-------------+------------------+-----------+-----------+\n",
      "|102852|            1|               3.0|        3.0|        3.0|\n",
      "|106100|           17|3.9705882352941178|        0.5|        5.0|\n",
      "+------+-------------+------------------+-----------+-----------+\n",
      "only showing top 2 rows"
     ]
    }
   ],
   "source": [
    "from awsglue.dynamicframe import DynamicFrame\n",
    "from pyspark.sql import functions as SqlFuncs\n",
    "\n",
    "def sparkAggregate(\n",
    "    glueContext, parentFrame, groups, aggs, transformation_ctx\n",
    ") -> DynamicFrame:\n",
    "    aggsFuncs = []\n",
    "    for column, func in aggs:\n",
    "        aggsFuncs.append(getattr(SqlFuncs, func)(column))\n",
    "    result = (\n",
    "        parentFrame.toDF().groupBy(*groups).agg(*aggsFuncs)\n",
    "        if len(groups) > 0\n",
    "        else parentFrame.toDF().agg(*aggsFuncs)\n",
    "    )\n",
    "    return DynamicFrame.fromDF(result, glueContext, transformation_ctx)\n",
    "\n",
    "\n",
    "# Script generated for node Aggregate\n",
    "Aggregate_node1648104595189 = sparkAggregate(\n",
    "    glueContext,\n",
    "    parentFrame=ApplyMapping_node1648104492447,\n",
    "    groups=[\"mid\"],\n",
    "    aggs=[[\"userid\", \"count\"], [\"rating\", \"avg\"],[\"rating\", \"min\"], [\"rating\", \"max\"]  ],\n",
    "    transformation_ctx=\"Aggregate_node1648104595189\",\n",
    ")\n",
    "\n",
    "\n",
    "Aggregate_node1648104595189.printSchema()\n",
    "Aggregate_node1648104595189.toDF().show(2)"
   ]
  },
  {
   "cell_type": "code",
   "execution_count": 10,
   "id": "9b397bbb",
   "metadata": {},
   "outputs": [
    {
     "data": {
      "application/vnd.jupyter.widget-view+json": {
       "model_id": "",
       "version_major": 2,
       "version_minor": 0
      },
      "text/plain": [
       "FloatProgress(value=0.0, bar_style='info', description='Progress:', layout=Layout(height='25px', width='50%'),…"
      ]
     },
     "metadata": {},
     "output_type": "display_data"
    },
    {
     "name": "stdout",
     "output_type": "stream",
     "text": [
      "root\n",
      "|-- mid: long\n",
      "|-- total_ratings: long\n",
      "|-- avg_rating: double\n",
      "|-- min_rating: double\n",
      "|-- max_rating: double\n",
      "\n",
      "+------+-------------+------------------+----------+----------+\n",
      "|   mid|total_ratings|        avg_rating|min_rating|max_rating|\n",
      "+------+-------------+------------------+----------+----------+\n",
      "|102852|            1|               3.0|       3.0|       3.0|\n",
      "|106100|           17|3.9705882352941178|       0.5|       5.0|\n",
      "+------+-------------+------------------+----------+----------+\n",
      "only showing top 2 rows"
     ]
    }
   ],
   "source": [
    "apply_renamed_agg_node = ApplyMapping.apply(\n",
    "    frame=Aggregate_node1648104595189,\n",
    "    mappings=[\n",
    "         (\"mid\", \"long\", \"mid\", \"long\"),\n",
    "        (\"count(userid)\", \"long\", \"total_ratings\", \"long\"),\n",
    "        (\"avg(rating)\", \"double\", \"avg_rating\", \"double\"),\n",
    "         (\"min(rating)\", \"double\", \"min_rating\", \"double\"),\n",
    "         (\"max(rating)\", \"double\", \"max_rating\", \"double\"),\n",
    "    ],\n",
    "    transformation_ctx=\"apply_renamed_agg_node\",\n",
    ")\n",
    "\n",
    "apply_renamed_agg_node.printSchema()\n",
    "apply_renamed_agg_node.toDF().show(2)\n",
    " "
   ]
  },
  {
   "cell_type": "code",
   "execution_count": 11,
   "id": "b99c3bff",
   "metadata": {},
   "outputs": [
    {
     "data": {
      "application/vnd.jupyter.widget-view+json": {
       "model_id": "",
       "version_major": 2,
       "version_minor": 0
      },
      "text/plain": [
       "FloatProgress(value=0.0, bar_style='info', description='Progress:', layout=Layout(height='25px', width='50%'),…"
      ]
     },
     "metadata": {},
     "output_type": "display_data"
    },
    {
     "name": "stdout",
     "output_type": "stream",
     "text": [
      "root\n",
      "|-- mid: long\n",
      "|-- total_ratings: long\n",
      "|-- movie_id: long\n",
      "|-- min_rating: double\n",
      "|-- name: string\n",
      "|-- max_rating: double\n",
      "|-- avg_rating: double"
     ]
    }
   ],
   "source": [
    "Join_node1648105003564 = Join.apply(\n",
    "    frame1=apply_renamed_agg_node,\n",
    "    frame2=movies_node1648104467325,\n",
    "    keys1=[\"mid\"],\n",
    "    keys2=[\"movie_id\"],\n",
    "    transformation_ctx=\"Join_node1648105003564\",\n",
    ")\n",
    "\n",
    "\n",
    "Join_node1648105003564.printSchema()\n"
   ]
  },
  {
   "cell_type": "code",
   "execution_count": 14,
   "id": "4bf3ca6a",
   "metadata": {},
   "outputs": [
    {
     "data": {
      "application/vnd.jupyter.widget-view+json": {
       "model_id": "",
       "version_major": 2,
       "version_minor": 0
      },
      "text/plain": [
       "FloatProgress(value=0.0, bar_style='info', description='Progress:', layout=Layout(height='25px', width='50%'),…"
      ]
     },
     "metadata": {},
     "output_type": "display_data"
    },
    {
     "name": "stdout",
     "output_type": "stream",
     "text": [
      "+----+-------------+--------+----------+--------------------+----------+----------+\n",
      "| mid|total_ratings|movie_id|min_rating|                name|max_rating|avg_rating|\n",
      "+----+-------------+--------+----------+--------------------+----------+----------+\n",
      "|6688|            1|    6688|       3.5|Autumn Spring (Ba...|       3.5|       3.5|\n",
      "|6237|            1|    6237|       4.0|Glenn Miller Stor...|       4.0|       4.0|\n",
      "+----+-------------+--------+----------+--------------------+----------+----------+\n",
      "only showing top 2 rows"
     ]
    }
   ],
   "source": [
    "Join_node1648105003564.toDF().show(2)"
   ]
  },
  {
   "cell_type": "code",
   "execution_count": 15,
   "id": "65e6a024",
   "metadata": {},
   "outputs": [
    {
     "data": {
      "application/vnd.jupyter.widget-view+json": {
       "model_id": "",
       "version_major": 2,
       "version_minor": 0
      },
      "text/plain": [
       "FloatProgress(value=0.0, bar_style='info', description='Progress:', layout=Layout(height='25px', width='50%'),…"
      ]
     },
     "metadata": {},
     "output_type": "display_data"
    },
    {
     "name": "stdout",
     "output_type": "stream",
     "text": [
      "root\n",
      "|-- total_ratings: long\n",
      "|-- movie_id: long\n",
      "|-- min_rating: double\n",
      "|-- name: string\n",
      "|-- max_rating: double\n",
      "|-- avg_rating: double\n",
      "\n",
      "+-------------+--------+----------+--------------------+----------+-----------------+\n",
      "|total_ratings|movie_id|min_rating|                name|max_rating|       avg_rating|\n",
      "+-------------+--------+----------+--------------------+----------+-----------------+\n",
      "|          122|    5349|       0.5|   Spider-Man (2002)|       5.0|3.540983606557377|\n",
      "|          129|    1221|       1.0|Godfather: Part I...|       5.0| 4.25968992248062|\n",
      "|          102|    1222|       1.0|Full Metal Jacket...|       5.0|4.098039215686274|\n",
      "|          108|    2115|       1.0|Indiana Jones and...|       5.0|3.638888888888889|\n",
      "+-------------+--------+----------+--------------------+----------+-----------------+\n",
      "only showing top 4 rows"
     ]
    }
   ],
   "source": [
    "\n",
    "# Script generated for node Drop Fields\n",
    "DropFields_node1648105395080 = DropFields.apply(\n",
    "    frame=Join_node1648105003564,\n",
    "    paths=[\"mid\"],\n",
    "    transformation_ctx=\"DropFields_node1648105395080\",\n",
    ")\n",
    "\n",
    "# Script generated for node Filter\n",
    "Filter_node1648105461556 = Filter.apply(\n",
    "    frame=DropFields_node1648105395080,\n",
    "    f=lambda row: (row[\"total_ratings\"] >= 100 and row[\"avg_rating\"] >= 3.5),\n",
    "    transformation_ctx=\"Filter_node1648105461556\",\n",
    ")\n",
    "\n",
    "Filter_node1648105461556.printSchema()\n",
    "Filter_node1648105461556.toDF().show(4)"
   ]
  },
  {
   "cell_type": "code",
   "execution_count": 16,
   "id": "4e27dcff",
   "metadata": {},
   "outputs": [
    {
     "data": {
      "application/vnd.jupyter.widget-view+json": {
       "model_id": "",
       "version_major": 2,
       "version_minor": 0
      },
      "text/plain": [
       "FloatProgress(value=0.0, bar_style='info', description='Progress:', layout=Layout(height='25px', width='50%'),…"
      ]
     },
     "metadata": {},
     "output_type": "display_data"
    }
   ],
   "source": [
    "Filter_node1648105461556 = Filter_node1648105461556.coalesce(1)"
   ]
  },
  {
   "cell_type": "code",
   "execution_count": 17,
   "id": "0b4d2ca0",
   "metadata": {},
   "outputs": [
    {
     "data": {
      "application/vnd.jupyter.widget-view+json": {
       "model_id": "",
       "version_major": 2,
       "version_minor": 0
      },
      "text/plain": [
       "FloatProgress(value=0.0, bar_style='info', description='Progress:', layout=Layout(height='25px', width='50%'),…"
      ]
     },
     "metadata": {},
     "output_type": "display_data"
    }
   ],
   "source": [
    "\n",
    "# Script generated for node S3 bucket\n",
    "S3bucket_node3 = glueContext.write_dynamic_frame.from_options(\n",
    "    frame=Filter_node1648105461556,\n",
    "    connection_type=\"s3\",\n",
    "    format=\"glueparquet\",\n",
    "    connection_options={\"path\": \"s3://gks-bucket/gold/popular-movies-copy3/\", \"partitionKeys\": []},\n",
    "    format_options={\"compression\": \"snappy\"},\n",
    "    transformation_ctx=\"Filter_node1648105461556\",\n",
    ")\n",
    " "
   ]
  },
  {
   "cell_type": "code",
   "execution_count": 18,
   "id": "5ae28293",
   "metadata": {},
   "outputs": [
    {
     "data": {
      "application/vnd.jupyter.widget-view+json": {
       "model_id": "",
       "version_major": 2,
       "version_minor": 0
      },
      "text/plain": [
       "FloatProgress(value=0.0, bar_style='info', description='Progress:', layout=Layout(height='25px', width='50%'),…"
      ]
     },
     "metadata": {},
     "output_type": "display_data"
    },
    {
     "name": "stderr",
     "output_type": "stream",
     "text": [
      "An error was encountered:\n",
      "name 'job' is not defined\n",
      "Traceback (most recent call last):\n",
      "NameError: name 'job' is not defined\n",
      "\n"
     ]
    }
   ],
   "source": [
    "\n",
    "# job.commit()"
   ]
  },
  {
   "cell_type": "code",
   "execution_count": null,
   "id": "608b9b01",
   "metadata": {},
   "outputs": [],
   "source": []
  }
 ],
 "metadata": {
  "kernelspec": {
   "display_name": "Sparkmagic (PySpark)",
   "language": "python",
   "name": "pysparkkernel"
  },
  "language_info": {
   "codemirror_mode": {
    "name": "python",
    "version": 3
   },
   "file_extension": ".py",
   "mimetype": "text/x-python",
   "name": "pyspark",
   "pygments_lexer": "python3"
  }
 },
 "nbformat": 4,
 "nbformat_minor": 5
}
